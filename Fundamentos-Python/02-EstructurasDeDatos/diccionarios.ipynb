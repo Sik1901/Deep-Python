{
 "cells": [
  {
   "cell_type": "markdown",
   "metadata": {},
   "source": [
    "# Diccionarios\n",
    "\n",
    "Es una estructura de datos y un dato de python el cual nos permite guardar valores por pares, en forma 'clave': 'valor', puedo guardar cualquier tipo de datos\n",
    "e incluso otras funciones."
   ]
  },
  {
   "cell_type": "code",
   "execution_count": 7,
   "metadata": {},
   "outputs": [
    {
     "data": {
      "text/plain": [
       "dict"
      ]
     },
     "execution_count": 7,
     "metadata": {},
     "output_type": "execute_result"
    }
   ],
   "source": [
    "# crear un diccionario\n",
    "\n",
    "diccionario = { \n",
    "  'python': 1,\n",
    "  'javascript': 2,\n",
    "  'java': 3\n",
    "}\n",
    "\n",
    "type(diccionario)"
   ]
  },
  {
   "cell_type": "code",
   "execution_count": 8,
   "metadata": {},
   "outputs": [
    {
     "name": "stdout",
     "output_type": "stream",
     "text": [
      "3\n"
     ]
    }
   ],
   "source": [
    "# contar elementos en un diccionario\n",
    "\n",
    "print(len(diccionario))"
   ]
  },
  {
   "cell_type": "code",
   "execution_count": 9,
   "metadata": {},
   "outputs": [
    {
     "name": "stdout",
     "output_type": "stream",
     "text": [
      "2\n"
     ]
    }
   ],
   "source": [
    "# acceder a los valores por medio de las keys\n",
    "\n",
    "print(diccionario['javascript'])"
   ]
  },
  {
   "cell_type": "code",
   "execution_count": 10,
   "metadata": {},
   "outputs": [
    {
     "name": "stdout",
     "output_type": "stream",
     "text": [
      "{'python': 1, 'javascript': 2, 'java': 3, 'c++': 4}\n"
     ]
    }
   ],
   "source": [
    "# agregar a valores a un diccionario\n",
    "\n",
    "diccionario['c++'] = 4\n",
    "\n",
    "print(diccionario)"
   ]
  },
  {
   "cell_type": "code",
   "execution_count": 11,
   "metadata": {},
   "outputs": [
    {
     "name": "stdout",
     "output_type": "stream",
     "text": [
      "{'python': 1, 'javascript': 2, 'java': 5, 'c++': 4}\n"
     ]
    }
   ],
   "source": [
    "# modificar los valores en un diccionario\n",
    "\n",
    "diccionario['java'] = 5\n",
    "\n",
    "print(diccionario)"
   ]
  },
  {
   "cell_type": "code",
   "execution_count": 12,
   "metadata": {},
   "outputs": [
    {
     "name": "stdout",
     "output_type": "stream",
     "text": [
      "{'python': 1, 'javascript': 2, 'c++': 4}\n"
     ]
    }
   ],
   "source": [
    "# eliminar elementos o pares de un diccionario\n",
    "\n",
    "del(diccionario['java'])\n",
    "\n",
    "print(diccionario)"
   ]
  },
  {
   "cell_type": "code",
   "execution_count": 13,
   "metadata": {},
   "outputs": [
    {
     "name": "stdout",
     "output_type": "stream",
     "text": [
      "{'python': 1, 'javascript': 2, 'c++': 4, 'c / c++': [5, 6]}\n"
     ]
    }
   ],
   "source": [
    "# agregar listas en un diccionario\n",
    "\n",
    "diccionario['c / c++'] = [5, 6]\n",
    "print(diccionario)"
   ]
  },
  {
   "cell_type": "code",
   "execution_count": 14,
   "metadata": {},
   "outputs": [
    {
     "name": "stdout",
     "output_type": "stream",
     "text": [
      "{'python': 1, 'javascript': 2, 'c++': 4, 'c / c++': [5, 6], 'tupla': (2, 3, 6)}\n"
     ]
    }
   ],
   "source": [
    "# agregar una tupla a un diccionario\n",
    "\n",
    "diccionario['tupla'] = (2, 3, 6)\n",
    "print(diccionario)"
   ]
  },
  {
   "cell_type": "code",
   "execution_count": 16,
   "metadata": {},
   "outputs": [
    {
     "name": "stdout",
     "output_type": "stream",
     "text": [
      "{1: ['Eugenio', 'Chaparro'], 2: ['Maria', 'Martinez'], 3: ['Pepe', 'Farias']}\n"
     ]
    }
   ],
   "source": [
    "#indentacion de diccionarios\n",
    "\n",
    "# pares con keys iguales, los elimina y deja el ultimo declarado\n",
    "diccionario = {\n",
    "  1: ['Eugenio', 'Chaparro'],\n",
    "  2: ['Maria', 'Martinez'],\n",
    "  3: ['Pepe', 'Farias']\n",
    "}\n",
    "\n",
    "print(diccionario)"
   ]
  },
  {
   "cell_type": "markdown",
   "metadata": {},
   "source": [
    "## Metodos para los diccionarios\n",
    "\n"
   ]
  },
  {
   "cell_type": "code",
   "execution_count": 17,
   "metadata": {},
   "outputs": [
    {
     "name": "stdout",
     "output_type": "stream",
     "text": [
      "No existe el alumno\n"
     ]
    }
   ],
   "source": [
    "# in - verifica que un elemento exista en el diccionario\n",
    "\n",
    "if 4 in diccionario:\n",
    "  print(diccionario[4])\n",
    "else:\n",
    "  print(f'No existe el alumno')"
   ]
  },
  {
   "cell_type": "code",
   "execution_count": 18,
   "metadata": {},
   "outputs": [
    {
     "name": "stdout",
     "output_type": "stream",
     "text": [
      "['Maria', 'Martinez']\n"
     ]
    }
   ],
   "source": [
    "# dict.get(key, error) trae un elemento y si no existe envia el segundo parametro\n",
    "# devuelve el dato\n",
    "\n",
    "val = diccionario.get(2, 'alumno 2 no existe')\n",
    "print(val)\n"
   ]
  },
  {
   "cell_type": "code",
   "execution_count": 21,
   "metadata": {},
   "outputs": [
    {
     "name": "stdout",
     "output_type": "stream",
     "text": [
      "dict_keys([1, 2, 3])\n",
      "1\n",
      "2\n",
      "3\n"
     ]
    }
   ],
   "source": [
    "#  devuelve las keys que contiene un diccionario\n",
    "\n",
    "val = diccionario.keys()\n",
    "print(val)\n",
    "\n",
    "for k in val:\n",
    "  print(k)\n"
   ]
  },
  {
   "cell_type": "code",
   "execution_count": 22,
   "metadata": {},
   "outputs": [
    {
     "name": "stdout",
     "output_type": "stream",
     "text": [
      "dict_values([['Eugenio', 'Chaparro'], ['Maria', 'Martinez'], ['Pepe', 'Farias']])\n",
      "['Eugenio', 'Chaparro']\n",
      "['Maria', 'Martinez']\n",
      "['Pepe', 'Farias']\n"
     ]
    }
   ],
   "source": [
    "# devuelve los valores en un diccionario\n",
    "\n",
    "val = diccionario.values()\n",
    "print(val)\n",
    "\n",
    "for v in val:\n",
    "  print(v)"
   ]
  },
  {
   "cell_type": "code",
   "execution_count": 23,
   "metadata": {},
   "outputs": [
    {
     "name": "stdout",
     "output_type": "stream",
     "text": [
      "dict_items([(1, ['Eugenio', 'Chaparro']), (2, ['Maria', 'Martinez']), (3, ['Pepe', 'Farias'])])\n",
      "(1, ['Eugenio', 'Chaparro'])\n",
      "(2, ['Maria', 'Martinez'])\n",
      "(3, ['Pepe', 'Farias'])\n"
     ]
    }
   ],
   "source": [
    "# permite obtener los items de un diccionario\n",
    "\n",
    "val = diccionario.items()\n",
    "print(val)\n",
    "\n",
    "for i in val:\n",
    "  print(i)"
   ]
  },
  {
   "cell_type": "code",
   "execution_count": 24,
   "metadata": {},
   "outputs": [
    {
     "name": "stdout",
     "output_type": "stream",
     "text": [
      "{}\n"
     ]
    }
   ],
   "source": [
    "# limpiar o eliminar todos los items de un diccionario\n",
    "\n",
    "diccionario.clear()\n",
    "print(diccionario)"
   ]
  }
 ],
 "metadata": {
  "interpreter": {
   "hash": "16e183a0204711b6002a06ace5430594594dda77fe12b1447a8eb8a000aa8a39"
  },
  "kernelspec": {
   "display_name": "Python 3.9.10 64-bit (windows store)",
   "language": "python",
   "name": "python3"
  },
  "language_info": {
   "codemirror_mode": {
    "name": "ipython",
    "version": 3
   },
   "file_extension": ".py",
   "mimetype": "text/x-python",
   "name": "python",
   "nbconvert_exporter": "python",
   "pygments_lexer": "ipython3",
   "version": "3.9.10"
  },
  "orig_nbformat": 4
 },
 "nbformat": 4,
 "nbformat_minor": 2
}
