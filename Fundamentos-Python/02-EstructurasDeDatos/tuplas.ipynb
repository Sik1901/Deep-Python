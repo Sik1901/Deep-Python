{
 "cells": [
  {
   "cell_type": "markdown",
   "metadata": {},
   "source": [
    "# TUPLAS \n",
    "una tupla es un conjunto ordenado e inmutable de elementos del mismo o un solo tipo, su diferencia con las listas es que las tuplas son inmutables. NO se pueden modificar.\n",
    "\n",
    "Las tuplas se almacenan en un lugar de memoria mas eficiente y seguro que las listas.\n",
    "\n",
    "Las tuplas son importantes en BIG DATA, IA, SCRAPING, ETC.."
   ]
  },
  {
   "cell_type": "code",
   "execution_count": 9,
   "metadata": {},
   "outputs": [
    {
     "name": "stdout",
     "output_type": "stream",
     "text": [
      "8\n"
     ]
    }
   ],
   "source": [
    "#len(mytupla) - cantidad de elementos dentro de una tupla\n",
    "\n",
    "mytupla = (3, 4, 5, 6, 7, 4, 8, 9)\n",
    "\n",
    "val = len(mytupla)\n",
    "print(val)"
   ]
  },
  {
   "cell_type": "code",
   "execution_count": 10,
   "metadata": {},
   "outputs": [
    {
     "name": "stdout",
     "output_type": "stream",
     "text": [
      "5\n",
      "9\n"
     ]
    }
   ],
   "source": [
    "#mostrar elementos de la tupla\n",
    "\n",
    "\n",
    "print(mytupla[2]) #muestra el index 2\n",
    "print(mytupla[-1]) #muestra el ultimo elemento"
   ]
  },
  {
   "cell_type": "code",
   "execution_count": 11,
   "metadata": {},
   "outputs": [
    {
     "name": "stdout",
     "output_type": "stream",
     "text": [
      "(4, 5, 6, 7)\n"
     ]
    }
   ],
   "source": [
    "#tupla[:] En los splits de las tuplas, vale el rango, no el index\n",
    "\n",
    "print(mytupla[1:5]) # 1 - es el indice de donde inicia, 3 - es el rango donde termina"
   ]
  },
  {
   "cell_type": "code",
   "execution_count": 12,
   "metadata": {},
   "outputs": [
    {
     "name": "stdout",
     "output_type": "stream",
     "text": [
      "True\n",
      "True\n"
     ]
    }
   ],
   "source": [
    "# in - podemos verificar un valor en la tupla\n",
    "\n",
    "val = 5 in mytupla\n",
    "print(val)\n",
    "\n",
    "val = 9 in mytupla\n",
    "print(val)"
   ]
  },
  {
   "cell_type": "code",
   "execution_count": 13,
   "metadata": {},
   "outputs": [
    {
     "name": "stdout",
     "output_type": "stream",
     "text": [
      "2\n"
     ]
    }
   ],
   "source": [
    "#tupla.index(val) - busca el index del valor que se le pasa por parametro\n",
    "mytupla = ('Hola', 'programador', 'data')\n",
    "\n",
    "val = mytupla.index('data')\n",
    "print(val)\n"
   ]
  },
  {
   "cell_type": "code",
   "execution_count": 14,
   "metadata": {},
   "outputs": [
    {
     "name": "stdout",
     "output_type": "stream",
     "text": [
      "4\n"
     ]
    }
   ],
   "source": [
    "#tupla.count(par) - cuenta cuantas veces se repite un elemento en la tupla\n",
    "mytupla = ( 3, 3, 3, 3, 4, 5, 6, 7)\n",
    "\n",
    "val = mytupla.count(3)\n",
    "print(val)"
   ]
  },
  {
   "cell_type": "code",
   "execution_count": 1,
   "metadata": {},
   "outputs": [],
   "source": [
    "#convertir una tupla a lista (casting)\n",
    "\n",
    "lista = list(mytupla)\n",
    "print(lista)\n",
    "\n",
    "#y de lista a tupla\n",
    "\n",
    "tupla = tuple(lista)\n",
    "print(tupla)"
   ]
  }
 ],
 "metadata": {
  "interpreter": {
   "hash": "16e183a0204711b6002a06ace5430594594dda77fe12b1447a8eb8a000aa8a39"
  },
  "kernelspec": {
   "display_name": "Python 3.9.10 64-bit (windows store)",
   "language": "python",
   "name": "python3"
  },
  "language_info": {
   "codemirror_mode": {
    "name": "ipython",
    "version": 3
   },
   "file_extension": ".py",
   "mimetype": "text/x-python",
   "name": "python",
   "nbconvert_exporter": "python",
   "pygments_lexer": "ipython3",
   "version": "3.9.10"
  },
  "orig_nbformat": 4
 },
 "nbformat": 4,
 "nbformat_minor": 2
}
