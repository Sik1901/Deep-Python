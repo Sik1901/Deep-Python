{
 "cells": [
  {
   "cell_type": "markdown",
   "metadata": {},
   "source": [
    "# ESTRUCTURAS DE DATOS\n",
    "\n",
    "Son representaciones mas complejas de algunos datos, sirven para por lo general, tener conjuntos de datos."
   ]
  },
  {
   "cell_type": "markdown",
   "metadata": {},
   "source": [
    "### Listas\n",
    "\n",
    "las listas son una estructura de datos y un tipo de dato en python"
   ]
  },
  {
   "cell_type": "code",
   "execution_count": 2,
   "metadata": {},
   "outputs": [],
   "source": [
    "mylist = ['Hola', 'humano', 'como', 'estas']"
   ]
  },
  {
   "cell_type": "code",
   "execution_count": 3,
   "metadata": {},
   "outputs": [
    {
     "data": {
      "text/plain": [
       "'estas'"
      ]
     },
     "execution_count": 3,
     "metadata": {},
     "output_type": "execute_result"
    }
   ],
   "source": [
    "mylist[0] #accede al primer elemento de la lista\n",
    "\n",
    "#en python podemos acceder tanto hacia adelante como hacia atras\n",
    "mylist[-1] #ultimo elemento de la lista"
   ]
  },
  {
   "cell_type": "code",
   "execution_count": 10,
   "metadata": {},
   "outputs": [
    {
     "data": {
      "text/plain": [
       "['estas', 'como', 'humano', 'Hola']"
      ]
     },
     "execution_count": 10,
     "metadata": {},
     "output_type": "execute_result"
    }
   ],
   "source": [
    "#obtener los rangos en una lista\n",
    "\n",
    "mylist[:] #obtengo toda la lista completa\n",
    "mylist[2:] #obtengo desde el index dos hasta el final\n",
    "mylist[:3] #obtengo desde el index 0 hasta el index 3\n",
    "mylist[:-2] #resto los dos ultimos elementos de la lista\n",
    "mylist[::-1] #obtengo la lista invertido"
   ]
  },
  {
   "cell_type": "markdown",
   "metadata": {},
   "source": [
    "### Metodos para las listas\n",
    "\n",
    "Algunas funciones que podemos usar para manipular las listas."
   ]
  },
  {
   "cell_type": "code",
   "execution_count": 12,
   "metadata": {},
   "outputs": [
    {
     "data": {
      "text/plain": [
       "4"
      ]
     },
     "execution_count": 12,
     "metadata": {},
     "output_type": "execute_result"
    }
   ],
   "source": [
    "#len() obtener el tamaño de una lista.\n",
    "\n",
    "mylist = ['Hola', 'humano', 'como', 'estas']\n",
    "\n",
    "len(mylist)"
   ]
  },
  {
   "cell_type": "code",
   "execution_count": 13,
   "metadata": {},
   "outputs": [
    {
     "name": "stdout",
     "output_type": "stream",
     "text": [
      "['Hola', 'humano', 'como', 'estas', '?']\n"
     ]
    }
   ],
   "source": [
    "#lista.append() agregar un elemento al final de la lista\n",
    "mylist.append('?')\n",
    "print(mylist)"
   ]
  },
  {
   "cell_type": "code",
   "execution_count": 14,
   "metadata": {},
   "outputs": [
    {
     "name": "stdout",
     "output_type": "stream",
     "text": [
      "['Hola', 'super', 'humano', 'como', 'estas', '?']\n"
     ]
    }
   ],
   "source": [
    "#lista.insert() agrega un elemento dependiendo el indice\n",
    "\n",
    "mylist.insert(1, 'super')\n",
    "print(mylist)"
   ]
  },
  {
   "cell_type": "code",
   "execution_count": 17,
   "metadata": {},
   "outputs": [
    {
     "name": "stdout",
     "output_type": "stream",
     "text": [
      "['Hola', 'super', 'humano', 'como', 'estas', '?', ':', 'espero', 'que', 'bien', ':', 'espero', 'que', 'bien']\n"
     ]
    }
   ],
   "source": [
    "#lista.extend(lista2) concatena la lista con otra lista\n",
    "mylist2 = [':', 'espero', 'que', 'bien']\n",
    "mylist3 = ['continua']\n",
    "\n",
    "mylist.extend(mylist2)\n",
    "print(mylist)"
   ]
  },
  {
   "cell_type": "code",
   "execution_count": 20,
   "metadata": {},
   "outputs": [
    {
     "name": "stdout",
     "output_type": "stream",
     "text": [
      "['Hola', 'humano', 'como', 'estas', '?', 'espero', 'que', 'mejor', 'y', 'mañana', 'mas']\n"
     ]
    }
   ],
   "source": [
    "#concatenar dos listas con +\n",
    "mylist = ['Hola', 'humano', 'como', 'estas', '?']\n",
    "mylist2 = ['y', 'mañana', 'mas']\n",
    "\n",
    "mylist = mylist + ['espero', 'que', 'mejor'] +  mylist2\n",
    "print(mylist)"
   ]
  },
  {
   "cell_type": "code",
   "execution_count": 1,
   "metadata": {},
   "outputs": [
    {
     "name": "stdout",
     "output_type": "stream",
     "text": [
      "4 existe en la lista\n"
     ]
    }
   ],
   "source": [
    "#if in, permite iterar sobre la lista si existe un elemento\n",
    "mylist = [1 ,2 ,3 ,4 ,5]\n",
    "el = 4\n",
    "\n",
    "if el in mylist:\n",
    "  print(f'{el} existe en la lista')\n",
    "else:\n",
    "  print(f'{el} NO existe en la lista')"
   ]
  },
  {
   "cell_type": "code",
   "execution_count": 10,
   "metadata": {},
   "outputs": [
    {
     "name": "stdout",
     "output_type": "stream",
     "text": [
      "2\n"
     ]
    }
   ],
   "source": [
    "#list.index() encuentra el indice del elemento como parametro\n",
    "mylist = ['Hola', 'humano', 'como', 'estas', '?']\n",
    "\n",
    "val = mylist.index('como')\n",
    "print(val)\n"
   ]
  },
  {
   "cell_type": "code",
   "execution_count": 11,
   "metadata": {},
   "outputs": [
    {
     "name": "stdout",
     "output_type": "stream",
     "text": [
      "3\n"
     ]
    }
   ],
   "source": [
    "#lista.count() indica cuantas veces se repite un elemento en la lista\n",
    "\n",
    "mylist = ['Hola', 'Hola', 'como', 'estas', 'Hola']\n",
    "\n",
    "val = mylist.count('Hola')\n",
    "print(val)"
   ]
  },
  {
   "cell_type": "code",
   "execution_count": 13,
   "metadata": {},
   "outputs": [
    {
     "name": "stdout",
     "output_type": "stream",
     "text": [
      "['Hola', 'humano', 'como', 'estas']\n",
      "['Hola', 'como', 'estas']\n"
     ]
    }
   ],
   "source": [
    "#lista.pop() elimina el ultimo elemento de la lista\n",
    "\n",
    "mylist = ['Hola', 'humano', 'como', 'estas', '?']\n",
    "\n",
    "#lo borra pero tambien lo devuelve en una variable si deseamos almacenarlo\n",
    "borrado = mylist.pop()\n",
    "print(borrado)\n",
    "\n",
    "#tambien podemos pasarle un indice\n",
    "mylist.pop(1)\n",
    "print(mylist)"
   ]
  },
  {
   "cell_type": "code",
   "execution_count": 14,
   "metadata": {},
   "outputs": [
    {
     "name": "stdout",
     "output_type": "stream",
     "text": [
      "['como', 'estas']\n"
     ]
    }
   ],
   "source": [
    "#lista.remove(par) remueve un valor de acuerdo al parametro que se le pase\n",
    "\n",
    "mylist.remove('Hola')\n",
    "print(mylist)"
   ]
  },
  {
   "cell_type": "code",
   "execution_count": 16,
   "metadata": {},
   "outputs": [
    {
     "name": "stdout",
     "output_type": "stream",
     "text": [
      "['estas', 'como', 'humano', 'Hola']\n"
     ]
    }
   ],
   "source": [
    "#lista.reverse() - invierte la lista totalmente\n",
    "mylist = ['Hola', 'humano', 'como', 'estas']\n",
    "\n",
    "mylist.reverse()\n",
    "print(mylist)"
   ]
  },
  {
   "cell_type": "code",
   "execution_count": 2,
   "metadata": {},
   "outputs": [
    {
     "name": "stdout",
     "output_type": "stream",
     "text": [
      "[0, 1, 2, 3, 4, 5]\n",
      "[5, 4, 3, 2, 1, 0]\n"
     ]
    }
   ],
   "source": [
    "#lista.sort() - nos ordena los elementos de una lista\n",
    "\n",
    "mylist = [3, 5, 1, 0, 2, 4]\n",
    "\n",
    "mylist.sort()\n",
    "print(mylist)\n",
    "\n",
    "#de mayor a menor\n",
    "mylist.sort(reverse=True)\n",
    "print(mylist)"
   ]
  },
  {
   "cell_type": "code",
   "execution_count": 18,
   "metadata": {},
   "outputs": [
    {
     "name": "stdout",
     "output_type": "stream",
     "text": [
      "[]\n"
     ]
    }
   ],
   "source": [
    "#lista.clear() limpia la lista totalmente\n",
    "\n",
    "mylist.clear()\n",
    "print(mylist)"
   ]
  },
  {
   "cell_type": "code",
   "execution_count": 1,
   "metadata": {},
   "outputs": [
    {
     "name": "stdout",
     "output_type": "stream",
     "text": [
      "[1, 2, 3, 1, 2, 3, 1, 2, 3]\n"
     ]
    }
   ],
   "source": [
    "# multiplicar la lista dentro de la misma lista\n",
    "\n",
    "print([1, 2, 3] * 3)\n",
    "\n"
   ]
  }
 ],
 "metadata": {
  "interpreter": {
   "hash": "16e183a0204711b6002a06ace5430594594dda77fe12b1447a8eb8a000aa8a39"
  },
  "kernelspec": {
   "display_name": "Python 3.9.10 64-bit (windows store)",
   "language": "python",
   "name": "python3"
  },
  "language_info": {
   "codemirror_mode": {
    "name": "ipython",
    "version": 3
   },
   "file_extension": ".py",
   "mimetype": "text/x-python",
   "name": "python",
   "nbconvert_exporter": "python",
   "pygments_lexer": "ipython3",
   "version": "3.9.10"
  },
  "orig_nbformat": 4
 },
 "nbformat": 4,
 "nbformat_minor": 2
}
