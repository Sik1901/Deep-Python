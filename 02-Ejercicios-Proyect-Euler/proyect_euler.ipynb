{
 "cells": [
  {
   "cell_type": "markdown",
   "metadata": {},
   "source": [
    "# Proyect Euler\n",
    "\n",
    "Son problemas matematicos y de programacion, enfocados a retar a las personas en sus conocimientos y complementar su entrenamiento."
   ]
  },
  {
   "cell_type": "markdown",
   "metadata": {},
   "source": [
    "1. Ejercicio\n",
    "\n",
    "Si enumeramos todos los números naturales por debajo de 10 que son múltiplos de 3 o 5, obtenemos 3, 5, 6 y 9. La suma de estos múltiplos es 23.\n",
    "\n",
    "Encuentra la suma de todos los múltiplos de 3 o 5 por debajo de 1000."
   ]
  },
  {
   "cell_type": "code",
   "execution_count": 22,
   "metadata": {},
   "outputs": [
    {
     "name": "stdout",
     "output_type": "stream",
     "text": [
      "233168\n"
     ]
    }
   ],
   "source": [
    "total = 0\n",
    "init = 1\n",
    "while init < 1000:\n",
    "  if(init % 5 == 0):\n",
    "    total += init\n",
    "  elif(init % 3 == 0):\n",
    "    total += init\n",
    "  init += 1\n",
    "\n",
    "print(total)"
   ]
  },
  {
   "cell_type": "markdown",
   "metadata": {},
   "source": [
    "2. Ejercicio\n",
    "\n",
    "Cada nuevo término en la secuencia de Fibonacci se genera agregando los dos términos anteriores. Al comenzar con 1 y 2, los primeros 10 términos serán:\n",
    "\n",
    "1, 2, 3, 5, 8, 13, 21, 34, 55, 89, ...\n",
    "\n",
    "Al considerar los términos en la secuencia de Fibonacci cuyos valores no superan los 5 millones, encuentre la suma de los términos de valor par."
   ]
  },
  {
   "cell_type": "code",
   "execution_count": 3,
   "metadata": {},
   "outputs": [
    {
     "name": "stdout",
     "output_type": "stream",
     "text": [
      "4613732\n"
     ]
    }
   ],
   "source": [
    "fibos = [1] \n",
    "n = 0 \n",
    "total = 0\n",
    "\n",
    "while(total <= 4000000):\n",
    "  if fibos[n] == 1:\n",
    "    fibos.append(fibos[n] + (fibos[n]))\n",
    "  if fibos[n] > 1:\n",
    "    fibos.append( fibos[n] + fibos[n-1] )\n",
    "  if fibos[n] % 2 == 0:\n",
    "    total += fibos[n]\n",
    "  n += 1\n",
    "\n",
    "print(total)"
   ]
  },
  {
   "cell_type": "markdown",
   "metadata": {},
   "source": [
    "3. Ejercicio\n",
    "\n",
    "Los factores primos de 13195 son 5, 7, 13 y 29.\n",
    "\n",
    "¿Cuál es el factor primo más grande del número 600851475143?"
   ]
  },
  {
   "cell_type": "code",
   "execution_count": 60,
   "metadata": {},
   "outputs": [
    {
     "name": "stdout",
     "output_type": "stream",
     "text": [
      "6857\n"
     ]
    }
   ],
   "source": [
    "facts = set({})\n",
    "num = 600851475143 \n",
    "div = 2\n",
    "maxfact = 0\n",
    "\n",
    "while num > 1:\n",
    "  while num % div == 0:\n",
    "    facts.add(div)     \n",
    "    num /= div\n",
    "  div += 1\n",
    "\n",
    "for n in facts:\n",
    "  if n > maxfact:\n",
    "    maxfact = n\n",
    "\n",
    "print(maxfact)\n"
   ]
  },
  {
   "cell_type": "markdown",
   "metadata": {},
   "source": [
    "4. Ejercicio\n",
    "\n",
    "Un número palindrómico lee lo mismo en ambos sentidos. El palíndromo más grande hecho del producto de dos números de 2 dígitos es 9009 = 91 × 99.\n",
    "\n",
    "Encuentra el palíndromo más grande hecho del producto de dos números de 3 dígitos."
   ]
  },
  {
   "cell_type": "code",
   "execution_count": 1,
   "metadata": {},
   "outputs": [
    {
     "name": "stdout",
     "output_type": "stream",
     "text": [
      "906609\n"
     ]
    }
   ],
   "source": [
    "init = 100 # por que es de tres digitos, cien es el primer numero de 3 digitos\n",
    "fin = 999\n",
    "max = 0\n",
    "palind = 0\n",
    "\n",
    "for n in range(init, (fin + 1)):\n",
    "  for j in range(init, (fin +1)):\n",
    "    res = n * j\n",
    "    lon = int(len(str(res))/2)\n",
    "    if int(len(str(res))) % 2 == 0:\n",
    "      if str(res)[:lon] == str(res)[lon:][::-1]:\n",
    "        palind = res\n",
    "    else:\n",
    "      if str(res)[:lon] == str(res)[lon+1:][::-1]:\n",
    "        palind = res \n",
    "    if palind > max:\n",
    "      max = palind\n",
    "\n",
    "print(max)"
   ]
  },
  {
   "cell_type": "markdown",
   "metadata": {},
   "source": [
    "5. Ejercicio\n",
    "\n",
    "2520 es el número más pequeño que se puede dividir por cada uno de los números del 1 al 10 sin ningún resto.\n",
    "\n",
    "¿Cuál es el número positivo más pequeño que es uniformemente divisible por todos los números del 1 al 20?"
   ]
  },
  {
   "cell_type": "code",
   "execution_count": 142,
   "metadata": {},
   "outputs": [
    {
     "name": "stdout",
     "output_type": "stream",
     "text": [
      "232792560\n"
     ]
    }
   ],
   "source": [
    "small = 0\n",
    "flag = True\n",
    "n = 1\n",
    "\n",
    "while flag:\n",
    "  valid = True\n",
    "  for x in range(2, (20 + 1)):\n",
    "    if n % x != 0:\n",
    "      valid = False\n",
    "      n += 1\n",
    "  if valid:\n",
    "    small = n\n",
    "    break\n",
    "\n",
    "print(small)\n"
   ]
  },
  {
   "cell_type": "markdown",
   "metadata": {},
   "source": [
    "6. Ejercicio\n",
    "\n",
    "La suma de los cuadrados de los primeros diez números naturales es,\n",
    "\n",
    "                  1**2 + 2**2 + ... 10**2 = 385\n",
    "\n",
    "El cuadrado de la suma de los primeros diez números naturales es,\n",
    "\n",
    "                  (1 + 2 + 3 + ... + 10)**2 = 3025\n",
    "\n",
    "Por lo tanto, la diferencia entre la suma de los cuadrados de los primeros diez números naturales y el cuadrado de la suma es \n",
    "\n",
    "                  3025 - 385 = 2640\n",
    "\n",
    "Encuentra la diferencia entre la suma de los cuadrados de los primeros cien números naturales y el cuadrado de la suma."
   ]
  },
  {
   "cell_type": "code",
   "execution_count": 23,
   "metadata": {},
   "outputs": [
    {
     "name": "stdout",
     "output_type": "stream",
     "text": [
      "25164150\n"
     ]
    }
   ],
   "source": [
    "sumcuad, cuadsum = 0, 0\n",
    "\n",
    "for x in range(1, (100 + 1)):\n",
    "  sumcuad += x**2\n",
    "\n",
    "suma = 0\n",
    "for y in range(1, (100 + 1)):\n",
    "  suma += y\n",
    "cuadsum = suma**2\n",
    "  \n",
    "dif = cuadsum - sumcuad\n",
    "\n",
    "print(dif)"
   ]
  },
  {
   "cell_type": "markdown",
   "metadata": {},
   "source": [
    "7. Ejercicio\n",
    "\n",
    "Al enumerar los primeros seis números primos: 2, 3, 5, 7, 11 y 13, podemos ver que el 6º primo es 13.\n",
    "\n",
    "¿Que numero primo esta en la posicion 10 001?"
   ]
  },
  {
   "cell_type": "code",
   "execution_count": null,
   "metadata": {},
   "outputs": [],
   "source": [
    "cont, fin , n = 1, 10001, 3\n",
    "\n",
    "flag = True\n",
    "while flag:\n",
    "  valid = True\n",
    "  for i in range(2, n):\n",
    "    if n % i == 0:\n",
    "      valid = False\n",
    "  if valid:\n",
    "    cont += 1\n",
    "  if cont == fin:\n",
    "    print(n)\n",
    "    break\n",
    "  n += 1"
   ]
  },
  {
   "cell_type": "markdown",
   "metadata": {},
   "source": [
    "8. Ejercicio\n",
    "\n",
    "Los cuatro dígitos adyacentes en el número de 1000 dígitos que tienen el mayor producto son 9 × 9 × 8 × 9 = 5832.\n",
    "\n",
    "731671765313306249192251196744265747423553491949349698352031277450632623957\n",
    "83180169848018694788518438586156078911294949545950173795833195285320880551\n",
    "11254069874715852386305071569329096329522744304355766896648950445244523161\n",
    "73185640309871112172238311362229893423380308135336276614282806444486645238\n",
    "74930358907296290491560440772390713810515859307960866701724271218839987979\n",
    "08792274921901699720888093776657273330010533678812202354218097512545405947\n",
    "52243525849077116705560136048395864467063244157221553975369781797784617406\n",
    "49551492908625693219784686224828397224137565705605749026140797296865241453\n",
    "51004748216637048440319989000889524345065854122758866688116427171479924442\n",
    "92823086346567481391912316282458617866458359124566529476545682848912883142\n",
    "60769004224219022671055626321111109370544217506941658960408071984038509624\n",
    "55444362981230987879927244284909188845801561660979191338754992005240636899\n",
    "12560717606058861164671094050775410022569831552000559357297257163626956188\n",
    "2670428252483600823257530420752963450\n",
    "\n",
    "\n",
    "Encuentre los trece dígitos adyacentes en el número de 1000 dígitos que tienen el mayor producto. ¿Cuál es el valor de este producto? (NO pegue el numero, use el de abajo, los espacios pueden complicar la ejecucion)"
   ]
  },
  {
   "cell_type": "code",
   "execution_count": 36,
   "metadata": {},
   "outputs": [
    {
     "name": "stdout",
     "output_type": "stream",
     "text": [
      "23514624000\n"
     ]
    }
   ],
   "source": [
    "# a = indice inicial de la lista\n",
    "# b = indice final de la lista\n",
    "# y = producto de los digitos\n",
    "# z = lista de numeros\n",
    "x = 7316717653133062491922511967442657474235534919493496983520312774506326239578318016984801869478851843858615607891129494954595017379583319528532088055111254069874715852386305071569329096329522744304355766896648950445244523161731856403098711121722383113622298934233803081353362766142828064444866452387493035890729629049156044077239071381051585930796086670172427121883998797908792274921901699720888093776657273330010533678812202354218097512545405947522435258490771167055601360483958644670632441572215539753697817977846174064955149290862569321978468622482839722413756570560574902614079729686524145351004748216637048440319989000889524345065854122758866688116427171479924442928230863465674813919123162824586178664583591245665294765456828489128831426076900422421902267105562632111110937054421750694165896040807198403850962455444362981230987879927244284909188845801561660979191338754992005240636899125607176060588611646710940507754100225698315520005593572972571636269561882670428252483600823257530420752963450\n",
    "a, b, y, z  = 0, 13, 0, list(str(x))\n",
    "\n",
    "while b <= len(z):\n",
    "  c = 1\n",
    "  for n in z[a:b]:\n",
    "    c *= int(n)\n",
    "  if y < c:\n",
    "    y = c\n",
    "  a += 1\n",
    "  b += 1\n",
    "\n",
    "print(y)"
   ]
  },
  {
   "cell_type": "markdown",
   "metadata": {},
   "source": [
    "9. Ejercicio\n",
    "\n",
    "La terna pitagorica es un es un conjunto de 3 numeros naturales donde `a < b < c`\n",
    "\n",
    "                                  `a**2 + b**2 = c**2`\n",
    "\n",
    "por ejemplo `3**2 + 4**2 = 9 + 16 = 25 = 5**2`\n",
    "\n",
    "Existe exactamente un terna pitagorica para `a**2 + b**2 + c**2 = 1000`, descubre que es `a,b y c`"
   ]
  },
  {
   "cell_type": "code",
   "execution_count": 39,
   "metadata": {},
   "outputs": [
    {
     "name": "stdout",
     "output_type": "stream",
     "text": [
      "100\n"
     ]
    }
   ],
   "source": [
    "print(10**2)"
   ]
  }
 ],
 "metadata": {
  "interpreter": {
   "hash": "16e183a0204711b6002a06ace5430594594dda77fe12b1447a8eb8a000aa8a39"
  },
  "kernelspec": {
   "display_name": "Python 3.9.10 64-bit (windows store)",
   "language": "python",
   "name": "python3"
  },
  "language_info": {
   "codemirror_mode": {
    "name": "ipython",
    "version": 3
   },
   "file_extension": ".py",
   "mimetype": "text/x-python",
   "name": "python",
   "nbconvert_exporter": "python",
   "pygments_lexer": "ipython3",
   "version": "3.9.10"
  },
  "orig_nbformat": 4
 },
 "nbformat": 4,
 "nbformat_minor": 2
}
