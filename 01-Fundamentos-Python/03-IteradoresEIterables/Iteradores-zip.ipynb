{
 "cells": [
  {
   "cell_type": "markdown",
   "metadata": {},
   "source": [
    "#### Iterables\n",
    "\n",
    "Objetos los cuales su contenido se puede contabilizar\n",
    "\n",
    "#### Iteradores\n",
    "\n",
    "Son los operadores del lenguaje que nos permiten manipular estos objetos que pueden contabilizarse."
   ]
  },
  {
   "cell_type": "code",
   "execution_count": 1,
   "metadata": {},
   "outputs": [
    {
     "name": "stdout",
     "output_type": "stream",
     "text": [
      "1\n",
      "2\n",
      "3\n",
      "4\n"
     ]
    }
   ],
   "source": [
    "lis = [1, 2, 3, 4]\n",
    "\n",
    "for element in lis:\n",
    "  print(element)"
   ]
  },
  {
   "cell_type": "code",
   "execution_count": 2,
   "metadata": {},
   "outputs": [
    {
     "name": "stdout",
     "output_type": "stream",
     "text": [
      "A   0\n",
      "m   1\n",
      "e   2\n",
      "r   3\n",
      "i   4\n",
      "c   5\n",
      "a   6\n"
     ]
    }
   ],
   "source": [
    "# enumerate - permite obtener el indice de la posicion del elemento\n",
    "\n",
    "for element, enumer in enumerate('America'):\n",
    "  print(enumer, ' ', element)\n",
    "\n"
   ]
  },
  {
   "cell_type": "code",
   "execution_count": 6,
   "metadata": {},
   "outputs": [
    {
     "name": "stdout",
     "output_type": "stream",
     "text": [
      "Numero es un iterable: False\n",
      "Flotante es un iterable: False\n",
      "Boleano es un iterable: False\n",
      "String es un iterable: True\n",
      "Lista es un iterable: True\n",
      "Tupla es un iterable: True\n",
      "Diccionario es un iterable: True\n",
      "Set es un iterable: True\n"
     ]
    }
   ],
   "source": [
    "from collections.abc import Iterable\n",
    "\n",
    "#No Iterables\n",
    "num1 = 3434354\n",
    "float1 = 3423.3423\n",
    "bool1 = True\n",
    "#iterables\n",
    "str1 = 'Hola Mundo'\n",
    "lis = [3, 3, 5, 8, 10]\n",
    "tup = (3, 2, 6, 9)\n",
    "dic = {1: 'data', 2: 'science'}\n",
    "set1 = {1, 2, 3, 4}\n",
    "\n",
    "print(f'Numero es un iterable: {isinstance(num1, Iterable)}')\n",
    "print(f'Flotante es un iterable: {isinstance(float1, Iterable)}')\n",
    "print(f'Boleano es un iterable: {isinstance(bool1, Iterable)}')\n",
    "print(f'String es un iterable: {isinstance(str1, Iterable)}')\n",
    "print(f'Lista es un iterable: {isinstance(lis, Iterable)}')\n",
    "print(f'Tupla es un iterable: {isinstance(tup, Iterable)}')\n",
    "print(f'Diccionario es un iterable: {isinstance(dic, Iterable)}')\n",
    "print(f'Set es un iterable: {isinstance(set1, Iterable)}')"
   ]
  },
  {
   "cell_type": "markdown",
   "metadata": {},
   "source": [
    "## Metodos Para Clases Iterables\n",
    "\n",
    "son metodos que nos ofrece python para ejecutar sobre clases iterables\n",
    "\n",
    "(Hay que tener en cuenta que tambien se ejecutan dependiendo el tipo de dato que contengan)"
   ]
  },
  {
   "cell_type": "code",
   "execution_count": 14,
   "metadata": {},
   "outputs": [
    {
     "name": "stdout",
     "output_type": "stream",
     "text": [
      "a\n",
      "b\n",
      "c\n"
     ]
    }
   ],
   "source": [
    "# claves para diccionario\n",
    "\n",
    "dic = {\n",
    "  'a': 2,\n",
    "  'b': 2,\n",
    "  'c': 2\n",
    "}\n",
    "\n",
    "for i in dic:\n",
    "  print(i)"
   ]
  },
  {
   "cell_type": "code",
   "execution_count": 10,
   "metadata": {},
   "outputs": [
    {
     "name": "stdout",
     "output_type": "stream",
     "text": [
      "30\n",
      "5\n"
     ]
    }
   ],
   "source": [
    "# sum() - Suma los valores dentro de la clase iterable\n",
    "# si todos son numeros\n",
    "lis = [3, 6, 9, 12]\n",
    "val = sum(lis)\n",
    "print(val)\n",
    "\n",
    "dic = {2: 'Hola', 3: 'mas'} # si es un diccionario, suma los keys(desde que sean numeros)\n",
    "val = sum(dic)\n",
    "print(val)\n"
   ]
  },
  {
   "cell_type": "code",
   "execution_count": 13,
   "metadata": {},
   "outputs": [
    {
     "name": "stdout",
     "output_type": "stream",
     "text": [
      "H-o-l-a\n"
     ]
    }
   ],
   "source": [
    "# 'arg'.join(iter) - concatena el valor anterior con los elementos del iterable\n",
    "# desde que sean letras\n",
    "\n",
    "esp = '-'\n",
    "print(esp.join('Hola'))\n",
    "\n"
   ]
  },
  {
   "cell_type": "code",
   "execution_count": 6,
   "metadata": {},
   "outputs": [
    {
     "name": "stdout",
     "output_type": "stream",
     "text": [
      "['r', 'r', 'r', 'r', 'r', 'r', 'r', 'r', 'r', 'r', 'r', 'r']\n"
     ]
    }
   ],
   "source": [
    "# condicionales directamente en listas\n",
    "frase = 'erre con erre cigarro, erre con erre barril'\n",
    "erres = [i for i in frase if i == 'r']\n",
    "\n",
    "print(erres)"
   ]
  },
  {
   "cell_type": "markdown",
   "metadata": {},
   "source": [
    "### Sentencia `zip`\n",
    "\n",
    "Aplica para las listas.\n",
    "\n",
    "dado una una lista 1 y un lista 2, `zip` asocia los valores de estas en una lista, y los pares formados en tuplas, zip como tal es un paquete binario, asi que tenemos que convertirlo a lista."
   ]
  },
  {
   "cell_type": "code",
   "execution_count": 5,
   "metadata": {},
   "outputs": [
    {
     "name": "stdout",
     "output_type": "stream",
     "text": [
      "<zip object at 0x000002A557182600>\n",
      "[('a', 1), ('b', 2), ('c', 3), ('d', 4)]\n"
     ]
    }
   ],
   "source": [
    "# no importa que las listas tengan mas elementos, asocia los que puede\n",
    "lis1 = ['a', 'b', 'c', 'd', 'e', 'f']\n",
    "lis2 = [1, 2, 3, 4]\n",
    "\n",
    "nuevo = zip(lis1, lis2)\n",
    "lis3 = list(nuevo)\n",
    "\n",
    "print(nuevo)\n",
    "print(lis3)"
   ]
  }
 ],
 "metadata": {
  "interpreter": {
   "hash": "16e183a0204711b6002a06ace5430594594dda77fe12b1447a8eb8a000aa8a39"
  },
  "kernelspec": {
   "display_name": "Python 3.9.10 64-bit (windows store)",
   "language": "python",
   "name": "python3"
  },
  "language_info": {
   "codemirror_mode": {
    "name": "ipython",
    "version": 3
   },
   "file_extension": ".py",
   "mimetype": "text/x-python",
   "name": "python",
   "nbconvert_exporter": "python",
   "pygments_lexer": "ipython3",
   "version": "3.9.10"
  },
  "orig_nbformat": 4
 },
 "nbformat": 4,
 "nbformat_minor": 2
}
