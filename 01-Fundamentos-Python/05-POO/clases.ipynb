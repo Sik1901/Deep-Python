{
 "cells": [
  {
   "cell_type": "markdown",
   "metadata": {},
   "source": [
    "# Objeto:\n",
    "\n",
    "Una estructura de datos que eventualmente tiene funciones asociadas. y que se encuentran agrupados por razones logicas en cuanto al objeto en si mismo. En la composicion de un objeto, tenemos `propiedades`(datos) `metodos`(funciones asociadas)."
   ]
  },
  {
   "cell_type": "code",
   "execution_count": 4,
   "metadata": {},
   "outputs": [
    {
     "name": "stdout",
     "output_type": "stream",
     "text": [
      "snausher\n",
      "Chihuahua\n",
      "Hola, soy snausher, de color 2 y tengo Marron\n",
      "None\n",
      "Hola, soy Chihuahua, de color 3 y tengo Blanco\n",
      "None\n"
     ]
    }
   ],
   "source": [
    "# crear una clase en python\n",
    "\n",
    "class Animal:\n",
    "  def __init__(self, especie, edad, color):\n",
    "    self.especie = especie\n",
    "    self.edad = edad\n",
    "    self.color = color\n",
    "\n",
    "  def me_presento(self):\n",
    "    print(f'Hola, soy {self.especie}, de color {self.edad} y tengo {self.color}')\n",
    "  def cumplir_anios(self):\n",
    "    self.edad = self.edad + 1\n",
    "\n",
    "animal1 = Animal('snausher', 2, 'Marron')\n",
    "animal2 = Animal('Chihuahua', 3, 'Blanco')\n",
    "\n",
    "print(animal1.especie)\n",
    "print(animal2.especie)\n",
    "\n",
    "print(animal1.me_presento())\n",
    "print(animal2.me_presento())\n",
    "\n"
   ]
  }
 ],
 "metadata": {
  "interpreter": {
   "hash": "16e183a0204711b6002a06ace5430594594dda77fe12b1447a8eb8a000aa8a39"
  },
  "kernelspec": {
   "display_name": "Python 3.9.10 64-bit (windows store)",
   "language": "python",
   "name": "python3"
  },
  "language_info": {
   "codemirror_mode": {
    "name": "ipython",
    "version": 3
   },
   "file_extension": ".py",
   "mimetype": "text/x-python",
   "name": "python",
   "nbconvert_exporter": "python",
   "pygments_lexer": "ipython3",
   "version": "3.9.10"
  },
  "orig_nbformat": 4
 },
 "nbformat": 4,
 "nbformat_minor": 2
}
