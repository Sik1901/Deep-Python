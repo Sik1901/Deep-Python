{
 "cells": [
  {
   "cell_type": "markdown",
   "metadata": {},
   "source": [
    "# CONJUNTOS (set)\n",
    "\n",
    "Los sets son un conjunto de elementos no ordenados (sin index) el cual no puede contener elementos repetidos.\n",
    "\n",
    "Igual que las tuplas, son de suma importancia para el manejo de Big Data y DataScience, al optimizar el disco duro y el procesamiento al realizar mas rapida la escritura.\n",
    "\n",
    "La diferencia entre un conjunto y un diccionario, es que el diccionario tiene clave:valor, y el conjunto solo tiene elementos.\n"
   ]
  },
  {
   "cell_type": "code",
   "execution_count": 6,
   "metadata": {},
   "outputs": [
    {
     "data": {
      "text/plain": [
       "set"
      ]
     },
     "execution_count": 6,
     "metadata": {},
     "output_type": "execute_result"
    }
   ],
   "source": [
    "#para crear y agregar elementos en un set, lo hacemos asi:\n",
    "conjunto = {1, 2, 3, 'Hola', 'programador', 'novato'}\n"
   ]
  },
  {
   "cell_type": "code",
   "execution_count": 2,
   "metadata": {},
   "outputs": [
    {
     "name": "stdout",
     "output_type": "stream",
     "text": [
      "{1, 2, 3}\n"
     ]
    }
   ],
   "source": [
    "#si yo introduzco elementos repetidos en un set,\n",
    "#siempre va a manipular eliminando los repetidos\n",
    "\n",
    "conjunto = set()\n",
    "conjunto = {1, 2, 3, 1, 2, 3}\n",
    "print(conjunto)"
   ]
  },
  {
   "cell_type": "code",
   "execution_count": 3,
   "metadata": {},
   "outputs": [
    {
     "name": "stdout",
     "output_type": "stream",
     "text": [
      "{1, 2, 3, 5}\n"
     ]
    }
   ],
   "source": [
    "#conjunto.add(par) - agregamos un elemento al set (inserta en cualquier parte)\n",
    "\n",
    "conjunto.add(5)\n",
    "print(conjunto)\n"
   ]
  },
  {
   "cell_type": "code",
   "execution_count": 4,
   "metadata": {},
   "outputs": [
    {
     "name": "stdout",
     "output_type": "stream",
     "text": [
      "True\n"
     ]
    }
   ],
   "source": [
    "#in - para saber si existe un elemento en el set\n",
    "\n",
    "conjunto = {1, 2, 3, 'Hola', 'programador', 'novato'}\n",
    "\n",
    "val = 'Hola' in conjunto\n",
    "print(val)\n"
   ]
  },
  {
   "cell_type": "code",
   "execution_count": 5,
   "metadata": {},
   "outputs": [
    {
     "name": "stdout",
     "output_type": "stream",
     "text": [
      "{1, 2, 3, 'programador', 'novato'}\n"
     ]
    }
   ],
   "source": [
    "#conjunto.discard(val) - elimina un elemento del set\n",
    "\n",
    "conjunto.discard('Hola')\n",
    "print(conjunto)"
   ]
  }
 ],
 "metadata": {
  "interpreter": {
   "hash": "16e183a0204711b6002a06ace5430594594dda77fe12b1447a8eb8a000aa8a39"
  },
  "kernelspec": {
   "display_name": "Python 3.9.10 64-bit (windows store)",
   "language": "python",
   "name": "python3"
  },
  "language_info": {
   "codemirror_mode": {
    "name": "ipython",
    "version": 3
   },
   "file_extension": ".py",
   "mimetype": "text/x-python",
   "name": "python",
   "nbconvert_exporter": "python",
   "pygments_lexer": "ipython3",
   "version": "3.9.10"
  },
  "orig_nbformat": 4
 },
 "nbformat": 4,
 "nbformat_minor": 2
}
