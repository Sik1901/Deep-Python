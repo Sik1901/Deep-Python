{
 "cells": [
  {
   "cell_type": "markdown",
   "metadata": {},
   "source": [
    "# Teoria de Conjuntos\n",
    "\n",
    "Referente al manejo de conjuntos:"
   ]
  },
  {
   "cell_type": "code",
   "execution_count": 3,
   "metadata": {},
   "outputs": [],
   "source": [
    "#tenemos dos conjuntos con elementos en comun y diferentes\n",
    "\n",
    "a = {1, 2, 3, 4}\n",
    "b = {4, 5, 6, 7}"
   ]
  },
  {
   "cell_type": "code",
   "execution_count": 4,
   "metadata": {},
   "outputs": [
    {
     "data": {
      "text/plain": [
       "False"
      ]
     },
     "execution_count": 4,
     "metadata": {},
     "output_type": "execute_result"
    }
   ],
   "source": [
    "# a y b son iguales?\n",
    "\n",
    "a == b"
   ]
  },
  {
   "cell_type": "code",
   "execution_count": 5,
   "metadata": {},
   "outputs": [
    {
     "name": "stdout",
     "output_type": "stream",
     "text": [
      "{1, 2, 3, 4, 5, 6, 7}\n"
     ]
    }
   ],
   "source": [
    "#union de conjuntos en python\n",
    "\n",
    "c = a | b\n",
    "print(c)"
   ]
  },
  {
   "cell_type": "code",
   "execution_count": 6,
   "metadata": {},
   "outputs": [
    {
     "name": "stdout",
     "output_type": "stream",
     "text": [
      "{4}\n"
     ]
    }
   ],
   "source": [
    "#interseccion de conjuntos en python\n",
    "\n",
    "c = a & b\n",
    "print(c)"
   ]
  },
  {
   "cell_type": "code",
   "execution_count": 7,
   "metadata": {},
   "outputs": [
    {
     "name": "stdout",
     "output_type": "stream",
     "text": [
      "{1, 2, 3}\n",
      "{5, 6, 7}\n"
     ]
    }
   ],
   "source": [
    "#diferencia de conjuntos en python\n",
    "\n",
    "#diferencia de a\n",
    "c = a - b\n",
    "print(c)\n",
    "\n",
    "#diferencia de b\n",
    "d = b - a\n",
    "print(d)\n"
   ]
  },
  {
   "cell_type": "code",
   "execution_count": 8,
   "metadata": {},
   "outputs": [
    {
     "name": "stdout",
     "output_type": "stream",
     "text": [
      "{1, 2, 3, 5, 6, 7}\n"
     ]
    }
   ],
   "source": [
    "#diferencia simetrica de conjuntos en python\n",
    "\n",
    "c = a ^ b\n",
    "print(c)"
   ]
  },
  {
   "cell_type": "code",
   "execution_count": 15,
   "metadata": {},
   "outputs": [
    {
     "name": "stdout",
     "output_type": "stream",
     "text": [
      "d es subconjunto? = True\n",
      "a es subconjunto? = False\n",
      "a es superconjunto? = True\n",
      "d es superconjunto? = False\n"
     ]
    }
   ],
   "source": [
    "#subconjuntos en python\n",
    "\n",
    "a = {1, 2, 3, 4, 5}\n",
    "d = {2, 3, 4}\n",
    "\n",
    "print(f'd es subconjunto? = {d.issubset(a)}')\n",
    "print(f'a es subconjunto? = {a.issubset(b)}')\n",
    "\n",
    "#superconjuntos en python\n",
    "\n",
    "print(f'a es superconjunto? = {a.issuperset(d)}')\n",
    "print(f'd es superconjunto? = {d.issuperset(a)}')\n"
   ]
  },
  {
   "cell_type": "code",
   "execution_count": 16,
   "metadata": {},
   "outputs": [
    {
     "name": "stdout",
     "output_type": "stream",
     "text": [
      "True\n"
     ]
    }
   ],
   "source": [
    "# disconexos en python\n",
    "\n",
    "a = {1, 2, 3, 4}\n",
    "b = {5, 6, 7, 8}\n",
    "\n",
    "print(a.isdisjoint(b))"
   ]
  },
  {
   "cell_type": "markdown",
   "metadata": {},
   "source": [
    "# Conjuntos Inmutables (frozenset)\n",
    "\n",
    "Son sets o conjuntos los cuales no se les puede modificar el valor."
   ]
  },
  {
   "cell_type": "code",
   "execution_count": null,
   "metadata": {},
   "outputs": [],
   "source": [
    "# crear un frozenset\n",
    "\n",
    "conjunto = frozenset({1, 2, 3, 4, 5})\n",
    "\n"
   ]
  }
 ],
 "metadata": {
  "interpreter": {
   "hash": "16e183a0204711b6002a06ace5430594594dda77fe12b1447a8eb8a000aa8a39"
  },
  "kernelspec": {
   "display_name": "Python 3.9.10 64-bit (windows store)",
   "language": "python",
   "name": "python3"
  },
  "language_info": {
   "codemirror_mode": {
    "name": "ipython",
    "version": 3
   },
   "file_extension": ".py",
   "mimetype": "text/x-python",
   "name": "python",
   "nbconvert_exporter": "python",
   "pygments_lexer": "ipython3",
   "version": "3.9.10"
  },
  "orig_nbformat": 4
 },
 "nbformat": 4,
 "nbformat_minor": 2
}
