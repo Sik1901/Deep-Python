{
 "cells": [
  {
   "cell_type": "markdown",
   "metadata": {},
   "source": [
    "### Funciones lambda\n",
    "\n",
    "Tambien conocidas como funciones anonimas, son funciones que se ejecutan en una sola linea de codigo. "
   ]
  },
  {
   "cell_type": "code",
   "execution_count": 2,
   "metadata": {},
   "outputs": [
    {
     "data": {
      "text/plain": [
       "5"
      ]
     },
     "execution_count": 2,
     "metadata": {},
     "output_type": "execute_result"
    }
   ],
   "source": [
    "# como funciona lambda\n",
    "\n",
    "def resta(a,b):\n",
    "  return a-b\n",
    "\n",
    "aliasResta = resta\n",
    "\n",
    "aliasResta(10, 5)"
   ]
  },
  {
   "cell_type": "code",
   "execution_count": 1,
   "metadata": {},
   "outputs": [
    {
     "data": {
      "text/plain": [
       "20"
      ]
     },
     "execution_count": 1,
     "metadata": {},
     "output_type": "execute_result"
    }
   ],
   "source": [
    "# por tanto puedo asignar a una variable una funcion\n",
    "# miFuncion = lambda lista_parametros : expresion\n",
    "\n",
    "suma = lambda x, y : x + y\n",
    "\n",
    "suma(10, 10)"
   ]
  },
  {
   "cell_type": "code",
   "execution_count": 3,
   "metadata": {},
   "outputs": [
    {
     "data": {
      "text/plain": [
       "'HolasoyFabian'"
      ]
     },
     "execution_count": 3,
     "metadata": {},
     "output_type": "execute_result"
    }
   ],
   "source": [
    "# otro ejemplo de funciones lambda\n",
    "\n",
    "quitaEspacios = lambda t : t.replace(\" \", \"\")\n",
    "\n",
    "quitaEspacios(\"Hola soy Fabian\")"
   ]
  },
  {
   "cell_type": "code",
   "execution_count": null,
   "metadata": {},
   "outputs": [],
   "source": []
  }
 ],
 "metadata": {
  "interpreter": {
   "hash": "d017be5761ed2eaa3906be1886320c4f47a2ec71962947c49a192b671f718064"
  },
  "kernelspec": {
   "display_name": "Python 3.9.7 ('base')",
   "language": "python",
   "name": "python3"
  },
  "language_info": {
   "codemirror_mode": {
    "name": "ipython",
    "version": 3
   },
   "file_extension": ".py",
   "mimetype": "text/x-python",
   "name": "python",
   "nbconvert_exporter": "python",
   "pygments_lexer": "ipython3",
   "version": "3.9.7"
  },
  "orig_nbformat": 4
 },
 "nbformat": 4,
 "nbformat_minor": 2
}
