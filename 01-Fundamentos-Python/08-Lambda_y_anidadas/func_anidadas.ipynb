{
 "cells": [
  {
   "cell_type": "markdown",
   "metadata": {},
   "source": [
    "## Funciones anidadas\n",
    "\n",
    "Al igual que en JavaScript, las funciones son de primer orden, asi que puedo anidar funciones tal como funcionan los bucles y las condicionales."
   ]
  },
  {
   "cell_type": "code",
   "execution_count": 8,
   "metadata": {},
   "outputs": [
    {
     "name": "stdout",
     "output_type": "stream",
     "text": [
      "None\n"
     ]
    }
   ],
   "source": [
    "# puedo anidar funciones de esta manera\n",
    "\n",
    "def dividir(a, b):\n",
    "  def validar(): # en este caso no tenemos que parar a y b a validar, porque ahora dividir es el entorno principal\n",
    "    if b<=0:\n",
    "      return False\n",
    "    else:\n",
    "      return True\n",
    "  if validar():\n",
    "      print( a/b)\n",
    "  else:\n",
    "    return None\n",
    "\n",
    "print(dividir(8,0))"
   ]
  }
 ],
 "metadata": {
  "interpreter": {
   "hash": "d017be5761ed2eaa3906be1886320c4f47a2ec71962947c49a192b671f718064"
  },
  "kernelspec": {
   "display_name": "Python 3.9.7 ('base')",
   "language": "python",
   "name": "python3"
  },
  "language_info": {
   "codemirror_mode": {
    "name": "ipython",
    "version": 3
   },
   "file_extension": ".py",
   "mimetype": "text/x-python",
   "name": "python",
   "nbconvert_exporter": "python",
   "pygments_lexer": "ipython3",
   "version": "3.9.7"
  },
  "orig_nbformat": 4
 },
 "nbformat": 4,
 "nbformat_minor": 2
}
