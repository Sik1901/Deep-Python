{
 "cells": [
  {
   "cell_type": "markdown",
   "metadata": {},
   "source": [
    "### Clousures\n",
    "\n",
    "Los clousures son funciones que dentro de ellas definen otra funcion, tal como javascript, sirve para preservar la privacidad de una funcion y que esta no sea modificada por terceros, ademas de alojar valores propios de esa misma funcion.\n",
    "\n",
    "Esta funcion se retorna al ser invocada."
   ]
  },
  {
   "cell_type": "code",
   "execution_count": 13,
   "metadata": {},
   "outputs": [
    {
     "data": {
      "text/plain": [
       "6"
      ]
     },
     "execution_count": 13,
     "metadata": {},
     "output_type": "execute_result"
    }
   ],
   "source": [
    "### funcionamiento de una clousure\n",
    "\n",
    "def count(x):\n",
    "  def numCount():\n",
    "    return x+ 1\n",
    "  return numCount\n",
    "\n",
    "result = count(5)\n",
    "res = result()\n",
    "res"
   ]
  }
 ],
 "metadata": {
  "interpreter": {
   "hash": "d017be5761ed2eaa3906be1886320c4f47a2ec71962947c49a192b671f718064"
  },
  "kernelspec": {
   "display_name": "Python 3.9.7 ('base')",
   "language": "python",
   "name": "python3"
  },
  "language_info": {
   "codemirror_mode": {
    "name": "ipython",
    "version": 3
   },
   "file_extension": ".py",
   "mimetype": "text/x-python",
   "name": "python",
   "nbconvert_exporter": "python",
   "pygments_lexer": "ipython3",
   "version": "3.9.7"
  },
  "orig_nbformat": 4
 },
 "nbformat": 4,
 "nbformat_minor": 2
}
