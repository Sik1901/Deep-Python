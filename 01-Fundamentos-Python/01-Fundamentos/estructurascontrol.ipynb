{
 "cells": [
  {
   "cell_type": "markdown",
   "metadata": {},
   "source": [
    "# PYTHON\n",
    "\n",
    "lenguaje de programacion dinamico, muy usado para realizar Data Science"
   ]
  },
  {
   "cell_type": "markdown",
   "metadata": {},
   "source": [
    "### Variables\n",
    "\n",
    "Las variables en python se declaran de tipo dinamico, estas son las estas son las mas basicas: "
   ]
  },
  {
   "cell_type": "code",
   "execution_count": 2,
   "metadata": {},
   "outputs": [
    {
     "data": {
      "text/plain": [
       "bool"
      ]
     },
     "execution_count": 2,
     "metadata": {},
     "output_type": "execute_result"
    }
   ],
   "source": [
    "var1 = \"hola\" #string\n",
    "var2 = 3      #number\n",
    "var3 = 0.5    #float\n",
    "var4 = True   #bool\n",
    "var5 = 5j     #complex\n"
   ]
  },
  {
   "cell_type": "markdown",
   "metadata": {},
   "source": [
    "### Metodos comunes en python\n",
    "Tenemos estos metodos que se usan mucho para operaciones comunes como imprimir en consola, o ver el tipo de dato, entre otros."
   ]
  },
  {
   "cell_type": "code",
   "execution_count": 33,
   "metadata": {},
   "outputs": [
    {
     "name": "stdout",
     "output_type": "stream",
     "text": [
      "Hola mundo\n",
      "35.898\n"
     ]
    },
    {
     "data": {
      "text/plain": [
       "3.34"
      ]
     },
     "execution_count": 33,
     "metadata": {},
     "output_type": "execute_result"
    }
   ],
   "source": [
    "var1 = \"Hola mundo\"\n",
    "var2 = '25'\n",
    "var3 = '35.898'\n",
    "\n",
    "print(var1) # Imprimira el valor en consola (ver el resultado)\n",
    "type(var1)  # nos mostrará el tipo de dato (str, bool, float)\n",
    "bool(var1)  # verdadero o falso segun si hay valor, o un booleano \n",
    "\n",
    "#para strings\n",
    "str(2) #convierte el numero a un string\n",
    "\n",
    "# para numeros\n",
    "int(var2)   # Convierte el numero a entero, sin decimales\n",
    "float(var3)\n",
    "round(3.3423423, 2) #redondea un numero a los decimales en el segundo parametro"
   ]
  },
  {
   "cell_type": "markdown",
   "metadata": {},
   "source": [
    "### Operadores logicos\n",
    "\n",
    "Los opereadores logicos nos permiten determinar si un conjunto de valores logicos tienen una veracidad o una falsedad."
   ]
  },
  {
   "cell_type": "code",
   "execution_count": 7,
   "metadata": {},
   "outputs": [
    {
     "name": "stdout",
     "output_type": "stream",
     "text": [
      "No pasa\n"
     ]
    }
   ],
   "source": [
    "var1 = 0 #falsey\n",
    "var2 = 1 #truty\n",
    "\n",
    "if (var1 and var2):  # operador and - Ambas tienen que ser verdaderas para mostrar OK\n",
    "  print(\"Ok\")\n",
    "else: \n",
    "  print(\"No\")\n",
    "\n"
   ]
  },
  {
   "cell_type": "code",
   "execution_count": null,
   "metadata": {},
   "outputs": [],
   "source": [
    "var1 = True\n",
    "var2 = False\n",
    "\n",
    "if (var1 or var2): #operador or - si una es verdadera, muestra Ok\n",
    "  print(\"OK\")\n",
    "else:\n",
    "  print(\"No\")"
   ]
  },
  {
   "cell_type": "code",
   "execution_count": 9,
   "metadata": {},
   "outputs": [
    {
     "data": {
      "text/plain": [
       "False"
      ]
     },
     "execution_count": 9,
     "metadata": {},
     "output_type": "execute_result"
    }
   ],
   "source": [
    "var1 = ''\n",
    "\n",
    "if(not(var1)): # si es verdadera niega, si es falsa pasa a verdadero\n",
    "  print(\"Es falsa, resultado es True\")\n",
    "else:\n",
    "  print(\"Es verdadera, resultado False\")\n"
   ]
  },
  {
   "cell_type": "markdown",
   "metadata": {},
   "source": [
    "### Flujos de control\n",
    "\n",
    "for in, es de los mas utilizados, tiene un iterable, puede ser un str, una lista, una coleccion, etc."
   ]
  },
  {
   "cell_type": "markdown",
   "metadata": {},
   "source": [
    "Rango, lo que hace es iterar numeros en un rango señalado, el primero se incluye y el ultimo no"
   ]
  },
  {
   "cell_type": "code",
   "execution_count": 32,
   "metadata": {},
   "outputs": [
    {
     "name": "stdout",
     "output_type": "stream",
     "text": [
      "0\n",
      "1\n",
      "2\n",
      "3\n",
      "4\n"
     ]
    }
   ],
   "source": [
    "for i in range(0, 5):\n",
    "  print(i)"
   ]
  },
  {
   "cell_type": "markdown",
   "metadata": {},
   "source": [
    "While, finaliza cuando una condicion se cumple"
   ]
  },
  {
   "cell_type": "code",
   "execution_count": 35,
   "metadata": {},
   "outputs": [
    {
     "name": "stdout",
     "output_type": "stream",
     "text": [
      "5\n",
      "4\n",
      "3\n",
      "2\n"
     ]
    }
   ],
   "source": [
    "n = 5\n",
    "\n",
    "while (n > 1):\n",
    "  print(n)\n",
    "  n -= 1"
   ]
  },
  {
   "cell_type": "markdown",
   "metadata": {},
   "source": [
    "For, puedo iterar una lista, una cadena, una coleccion"
   ]
  },
  {
   "cell_type": "code",
   "execution_count": 37,
   "metadata": {},
   "outputs": [
    {
     "name": "stdout",
     "output_type": "stream",
     "text": [
      "H\n",
      "o\n",
      "l\n",
      "a\n",
      " \n",
      "Hay un espacio\n"
     ]
    }
   ],
   "source": [
    "var1 = 'Hola Mundo'\n",
    "\n",
    "for i in var1:\n",
    "  print(i)\n",
    "  if(i == ' '):\n",
    "    print(f'Hay un espacio')\n",
    "    break"
   ]
  }
 ],
 "metadata": {
  "interpreter": {
   "hash": "16e183a0204711b6002a06ace5430594594dda77fe12b1447a8eb8a000aa8a39"
  },
  "kernelspec": {
   "display_name": "Python 3.9.10 64-bit (windows store)",
   "language": "python",
   "name": "python3"
  },
  "language_info": {
   "codemirror_mode": {
    "name": "ipython",
    "version": 3
   },
   "file_extension": ".py",
   "mimetype": "text/x-python",
   "name": "python",
   "nbconvert_exporter": "python",
   "pygments_lexer": "ipython3",
   "version": "3.9.10"
  },
  "orig_nbformat": 4
 },
 "nbformat": 4,
 "nbformat_minor": 2
}
