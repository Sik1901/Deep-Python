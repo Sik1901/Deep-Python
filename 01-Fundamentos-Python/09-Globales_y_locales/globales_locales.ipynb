{
 "cells": [
  {
   "cell_type": "markdown",
   "metadata": {},
   "source": [
    "### Variables locales y variables globales\n",
    "\n",
    "las variables locales son las que podemos declarar dentro de su ambito de uso, osea, del programa principal o dentro de una funcion, las variables globales se declara fuera de su ambito para que se pueda utilizar en cualquier funcion que la declare como global.\n",
    "\n",
    "funciones locales: dentro de su ambito.\n",
    "funciones globales: pueden utilizarse en cualquier parte."
   ]
  },
  {
   "cell_type": "code",
   "execution_count": 11,
   "metadata": {},
   "outputs": [
    {
     "name": "stdout",
     "output_type": "stream",
     "text": [
      "var funcion\n",
      "var principal\n"
     ]
    }
   ],
   "source": [
    "# las variables dentro de una funcion no pueden modificar valores fuera de ella\n",
    "\n",
    "def funcionDemo(mi_var):\n",
    "  mi_var = \"var funcion\"\n",
    "  print(mi_var)\n",
    "\n",
    "mi_var=\"var principal\"\n",
    "funcionDemo(\"var principal\")\n",
    "print(mi_var) # esta no se ve afectada por la reasignacion dentro de la funcion, solo afecta dentro de la funcion"
   ]
  },
  {
   "cell_type": "code",
   "execution_count": 12,
   "metadata": {},
   "outputs": [
    {
     "name": "stdout",
     "output_type": "stream",
     "text": [
      "Soy global\n"
     ]
    }
   ],
   "source": [
    "# cuando declaro una variable como global, esta afecta directamente todos los ambitos\n",
    "\n",
    "def cambioAGlobal():\n",
    "  global mi_variable\n",
    "  mi_variable = \"Soy global\"\n",
    "\n",
    "mi_variable = \"Soy principal\"\n",
    "cambioAGlobal() # al ser declarada como global dentro de nuestra funcion, cualquier asignacion es para todo el conjunto que mencione a la variable\n",
    "print(mi_variable)"
   ]
  }
 ],
 "metadata": {
  "interpreter": {
   "hash": "d017be5761ed2eaa3906be1886320c4f47a2ec71962947c49a192b671f718064"
  },
  "kernelspec": {
   "display_name": "Python 3.9.7 ('base')",
   "language": "python",
   "name": "python3"
  },
  "language_info": {
   "codemirror_mode": {
    "name": "ipython",
    "version": 3
   },
   "file_extension": ".py",
   "mimetype": "text/x-python",
   "name": "python",
   "nbconvert_exporter": "python",
   "pygments_lexer": "ipython3",
   "version": "3.9.7"
  },
  "orig_nbformat": 4
 },
 "nbformat": 4,
 "nbformat_minor": 2
}
