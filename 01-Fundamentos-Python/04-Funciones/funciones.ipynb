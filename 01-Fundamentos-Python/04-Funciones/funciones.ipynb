{
 "cells": [
  {
   "cell_type": "markdown",
   "metadata": {},
   "source": [
    "# Funciones en python\n",
    "\n",
    "son bloques de codigo que se ejecutan al ser llamados."
   ]
  },
  {
   "cell_type": "code",
   "execution_count": 1,
   "metadata": {},
   "outputs": [
    {
     "name": "stdout",
     "output_type": "stream",
     "text": [
      "funcion declarada\n",
      "parametros: 2, 3\n"
     ]
    }
   ],
   "source": [
    "# declaracion de una funcion\n",
    "\n",
    "def funcion_declarada():\n",
    "  print('funcion declarada')\n",
    "\n",
    "def funcion_con_parametros(val, val2):\n",
    "  print(f'parametros: {val}, {val2}')\n",
    "\n",
    "funcion_declarada()\n",
    "funcion_con_parametros(2, 3)"
   ]
  },
  {
   "cell_type": "code",
   "execution_count": 7,
   "metadata": {},
   "outputs": [
    {
     "name": "stdout",
     "output_type": "stream",
     "text": [
      "5\n",
      "segundo argumento\n"
     ]
    }
   ],
   "source": [
    "# Argumentos opcionales y argumentos por defecto\n",
    "\n",
    "def argumentos_pordefecto(num, real = False):\n",
    "  if real:\n",
    "    print('segundo argumento')\n",
    "  else:\n",
    "    print(num)\n",
    "\n",
    "argumentos_pordefecto(5)\n",
    "argumentos_pordefecto(5, True)\n"
   ]
  }
 ],
 "metadata": {
  "interpreter": {
   "hash": "16e183a0204711b6002a06ace5430594594dda77fe12b1447a8eb8a000aa8a39"
  },
  "kernelspec": {
   "display_name": "Python 3.9.10 64-bit (windows store)",
   "language": "python",
   "name": "python3"
  },
  "language_info": {
   "codemirror_mode": {
    "name": "ipython",
    "version": 3
   },
   "file_extension": ".py",
   "mimetype": "text/x-python",
   "name": "python",
   "nbconvert_exporter": "python",
   "pygments_lexer": "ipython3",
   "version": "3.9.10"
  },
  "orig_nbformat": 4
 },
 "nbformat": 4,
 "nbformat_minor": 2
}
